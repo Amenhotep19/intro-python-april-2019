{
 "cells": [
  {
   "cell_type": "code",
   "execution_count": 1,
   "metadata": {
    "collapsed": true
   },
   "outputs": [],
   "source": [
    "import pandas as pd\n",
    "\n",
    "%matplotlib inline"
   ]
  },
  {
   "cell_type": "code",
   "execution_count": 2,
   "metadata": {
    "collapsed": true
   },
   "outputs": [],
   "source": [
    "attendees = pd.read_csv(\"attendees.csv\")"
   ]
  },
  {
   "cell_type": "code",
   "execution_count": 3,
   "metadata": {
    "collapsed": false
   },
   "outputs": [
    {
     "data": {
      "text/html": [
       "<div>\n",
       "<style>\n",
       "    .dataframe thead tr:only-child th {\n",
       "        text-align: right;\n",
       "    }\n",
       "\n",
       "    .dataframe thead th {\n",
       "        text-align: left;\n",
       "    }\n",
       "\n",
       "    .dataframe tbody tr th {\n",
       "        vertical-align: top;\n",
       "    }\n",
       "</style>\n",
       "<table border=\"1\" class=\"dataframe\">\n",
       "  <thead>\n",
       "    <tr style=\"text-align: right;\">\n",
       "      <th></th>\n",
       "      <th>Order #</th>\n",
       "      <th>Order Date</th>\n",
       "      <th>Role</th>\n",
       "      <th>Please specify other role</th>\n",
       "      <th>Affiliation (graduate students: please choose the primary school of your department)</th>\n",
       "      <th>Please specify \"other\" affiliation</th>\n",
       "      <th>Department</th>\n",
       "      <th>Choose a box lunch for April 2nd</th>\n",
       "      <th>Choose a box lunch for April 3rd</th>\n",
       "      <th>Which option best describes your experience level with programming</th>\n",
       "    </tr>\n",
       "  </thead>\n",
       "  <tbody>\n",
       "    <tr>\n",
       "      <th>0</th>\n",
       "      <td>907368251</td>\n",
       "      <td>2019-02-28 15:51:58-06:00</td>\n",
       "      <td>Terminal Professional Degree Student (e.g. JD,...</td>\n",
       "      <td>NaN</td>\n",
       "      <td>Other</td>\n",
       "      <td>None</td>\n",
       "      <td>Engineering</td>\n",
       "      <td>Tuna salad</td>\n",
       "      <td>Grilled Mediterranean chicken sandwich</td>\n",
       "      <td>A little: I've written a few lines of code or ...</td>\n",
       "    </tr>\n",
       "    <tr>\n",
       "      <th>1</th>\n",
       "      <td>910105881</td>\n",
       "      <td>2019-03-05 12:47:50-06:00</td>\n",
       "      <td>PhD Student</td>\n",
       "      <td>NaN</td>\n",
       "      <td>Feinberg School of Medicine</td>\n",
       "      <td>NaN</td>\n",
       "      <td>Rheumatology</td>\n",
       "      <td>Grilled Mediterranean chicken sandwich</td>\n",
       "      <td>Grilled Mediterranean chicken sandwich</td>\n",
       "      <td>A little: I've written a few lines of code or ...</td>\n",
       "    </tr>\n",
       "    <tr>\n",
       "      <th>2</th>\n",
       "      <td>910123632</td>\n",
       "      <td>2019-03-05 13:12:30-06:00</td>\n",
       "      <td>PhD Student</td>\n",
       "      <td>NaN</td>\n",
       "      <td>Feinberg School of Medicine</td>\n",
       "      <td>NaN</td>\n",
       "      <td>Ob/gyn</td>\n",
       "      <td>Grilled Mediterranean chicken sandwich</td>\n",
       "      <td>Grilled veggie wrap</td>\n",
       "      <td>A little: I've written a few lines of code or ...</td>\n",
       "    </tr>\n",
       "    <tr>\n",
       "      <th>3</th>\n",
       "      <td>910233885</td>\n",
       "      <td>2019-03-05 15:50:47-06:00</td>\n",
       "      <td>PhD Student</td>\n",
       "      <td>NaN</td>\n",
       "      <td>Feinberg School of Medicine</td>\n",
       "      <td>NaN</td>\n",
       "      <td>OBGYN</td>\n",
       "      <td>Tuna salad</td>\n",
       "      <td>Tuna salad</td>\n",
       "      <td>A little: I've written a few lines of code or ...</td>\n",
       "    </tr>\n",
       "    <tr>\n",
       "      <th>4</th>\n",
       "      <td>911056397</td>\n",
       "      <td>2019-03-06 18:13:24-06:00</td>\n",
       "      <td>PhD Student</td>\n",
       "      <td>NaN</td>\n",
       "      <td>Feinberg School of Medicine</td>\n",
       "      <td>NaN</td>\n",
       "      <td>Physiology</td>\n",
       "      <td>Grilled Mediterranean chicken sandwich</td>\n",
       "      <td>Grilled veggie wrap</td>\n",
       "      <td>A little: I've written a few lines of code or ...</td>\n",
       "    </tr>\n",
       "  </tbody>\n",
       "</table>\n",
       "</div>"
      ],
      "text/plain": [
       "     Order #                 Order Date  \\\n",
       "0  907368251  2019-02-28 15:51:58-06:00   \n",
       "1  910105881  2019-03-05 12:47:50-06:00   \n",
       "2  910123632  2019-03-05 13:12:30-06:00   \n",
       "3  910233885  2019-03-05 15:50:47-06:00   \n",
       "4  911056397  2019-03-06 18:13:24-06:00   \n",
       "\n",
       "                                                Role  \\\n",
       "0  Terminal Professional Degree Student (e.g. JD,...   \n",
       "1                                        PhD Student   \n",
       "2                                        PhD Student   \n",
       "3                                        PhD Student   \n",
       "4                                        PhD Student   \n",
       "\n",
       "  Please specify other role  \\\n",
       "0                       NaN   \n",
       "1                       NaN   \n",
       "2                       NaN   \n",
       "3                       NaN   \n",
       "4                       NaN   \n",
       "\n",
       "  Affiliation (graduate students: please choose the primary school of your department)  \\\n",
       "0                                              Other                                     \n",
       "1                        Feinberg School of Medicine                                     \n",
       "2                        Feinberg School of Medicine                                     \n",
       "3                        Feinberg School of Medicine                                     \n",
       "4                        Feinberg School of Medicine                                     \n",
       "\n",
       "  Please specify \"other\" affiliation    Department  \\\n",
       "0                               None   Engineering   \n",
       "1                                NaN  Rheumatology   \n",
       "2                                NaN        Ob/gyn   \n",
       "3                                NaN         OBGYN   \n",
       "4                                NaN    Physiology   \n",
       "\n",
       "         Choose a box lunch for April 2nd  \\\n",
       "0                              Tuna salad   \n",
       "1  Grilled Mediterranean chicken sandwich   \n",
       "2  Grilled Mediterranean chicken sandwich   \n",
       "3                              Tuna salad   \n",
       "4  Grilled Mediterranean chicken sandwich   \n",
       "\n",
       "         Choose a box lunch for April 3rd  \\\n",
       "0  Grilled Mediterranean chicken sandwich   \n",
       "1  Grilled Mediterranean chicken sandwich   \n",
       "2                     Grilled veggie wrap   \n",
       "3                              Tuna salad   \n",
       "4                     Grilled veggie wrap   \n",
       "\n",
       "  Which option best describes your experience level with programming  \n",
       "0  A little: I've written a few lines of code or ...                  \n",
       "1  A little: I've written a few lines of code or ...                  \n",
       "2  A little: I've written a few lines of code or ...                  \n",
       "3  A little: I've written a few lines of code or ...                  \n",
       "4  A little: I've written a few lines of code or ...                  "
      ]
     },
     "execution_count": 3,
     "metadata": {},
     "output_type": "execute_result"
    }
   ],
   "source": [
    "attendees.head()"
   ]
  },
  {
   "cell_type": "code",
   "execution_count": 4,
   "metadata": {
    "collapsed": true
   },
   "outputs": [],
   "source": [
    "attendees.columns = ['order_num', 'date', 'role','role_other', 'school', 'school_other', 'department', \n",
    "                     'lunch1', 'lunch2', 'experience']"
   ]
  },
  {
   "cell_type": "code",
   "execution_count": 5,
   "metadata": {
    "collapsed": false
   },
   "outputs": [
    {
     "data": {
      "text/plain": [
       "None: Complete beginner                                                     15\n",
       "A little: I've written a few lines of code or modified scripts              10\n",
       "OK: I've written a loop or function in another language/program              8\n",
       "Good: I use other languages or programs, and I'm looking to learn Python     4\n",
       "Name: experience, dtype: int64"
      ]
     },
     "execution_count": 5,
     "metadata": {},
     "output_type": "execute_result"
    }
   ],
   "source": [
    "attendees.experience.value_counts()"
   ]
  },
  {
   "cell_type": "code",
   "execution_count": 6,
   "metadata": {
    "collapsed": false
   },
   "outputs": [
    {
     "data": {
      "text/plain": [
       "<matplotlib.axes._subplots.AxesSubplot at 0x11ec255c0>"
      ]
     },
     "execution_count": 6,
     "metadata": {},
     "output_type": "execute_result"
    },
    {
     "data": {
      "image/png": "[encoded data removed]",
      "text/plain": [
       "<matplotlib.figure.Figure at 0x11eb79cc0>"
      ]
     },
     "metadata": {},
     "output_type": "display_data"
    }
   ],
   "source": [
    "attendees.experience.value_counts().plot(kind=\"bar\")"
   ]
  },
  {
   "cell_type": "code",
   "execution_count": 7,
   "metadata": {
    "collapsed": false
   },
   "outputs": [
    {
     "data": {
      "text/plain": [
       "Feinberg School of Medicine                            23\n",
       "McCormick School of Engineering and Applied Science     4\n",
       "Weinberg College                                        4\n",
       "Northwestern Medicine                                   2\n",
       "Other                                                   2\n",
       "School of Communication                                 1\n",
       "School of Professional Studies                          1\n",
       "Name: school, dtype: int64"
      ]
     },
     "execution_count": 7,
     "metadata": {},
     "output_type": "execute_result"
    }
   ],
   "source": [
    "attendees.school.value_counts()"
   ]
  },
  {
   "cell_type": "code",
   "execution_count": 8,
   "metadata": {
    "collapsed": false
   },
   "outputs": [
    {
     "data": {
      "text/plain": [
       "PhD Student                                           11\n",
       "Staff                                                  8\n",
       "Postdoc                                                7\n",
       "Faculty                                                4\n",
       "Other                                                  3\n",
       "Master's Student                                       3\n",
       "Terminal Professional Degree Student (e.g. JD, MD)     1\n",
       "Name: role, dtype: int64"
      ]
     },
     "execution_count": 8,
     "metadata": {},
     "output_type": "execute_result"
    }
   ],
   "source": [
    "attendees.role.value_counts()"
   ]
  },
  {
   "cell_type": "code",
   "execution_count": 9,
   "metadata": {
    "collapsed": false
   },
   "outputs": [
    {
     "data": {
      "text/plain": [
       "0     False\n",
       "1      True\n",
       "2     False\n",
       "3      True\n",
       "4     False\n",
       "5     False\n",
       "6     False\n",
       "7     False\n",
       "8      True\n",
       "9      True\n",
       "10    False\n",
       "11    False\n",
       "12    False\n",
       "13    False\n",
       "14    False\n",
       "15    False\n",
       "16    False\n",
       "17    False\n",
       "18    False\n",
       "19    False\n",
       "20     True\n",
       "21    False\n",
       "22     True\n",
       "23     True\n",
       "24     True\n",
       "25    False\n",
       "26     True\n",
       "27    False\n",
       "28    False\n",
       "29    False\n",
       "30    False\n",
       "31    False\n",
       "32     True\n",
       "33    False\n",
       "34     True\n",
       "35    False\n",
       "36     True\n",
       "dtype: bool"
      ]
     },
     "execution_count": 9,
     "metadata": {},
     "output_type": "execute_result"
    }
   ],
   "source": [
    "attendees.lunch1 == attendees.lunch2"
   ]
  },
  {
   "cell_type": "code",
   "execution_count": 10,
   "metadata": {
    "collapsed": false
   },
   "outputs": [
    {
     "data": {
      "text/plain": [
       "0.32432432432432434"
      ]
     },
     "execution_count": 10,
     "metadata": {},
     "output_type": "execute_result"
    }
   ],
   "source": [
    "sum(attendees.lunch1 == attendees.lunch2)/len(attendees.lunch1)"
   ]
  },
  {
   "cell_type": "code",
   "execution_count": null,
   "metadata": {
    "collapsed": true
   },
   "outputs": [],
   "source": []
  }
 ],
 "metadata": {
  "kernelspec": {
   "display_name": "Python 3 (conda p3)",
   "language": "python",
   "name": "p3"
  },
  "language_info": {
   "codemirror_mode": {
    "name": "ipython",
    "version": 3
   },
   "file_extension": ".py",
   "mimetype": "text/x-python",
   "name": "python",
   "nbconvert_exporter": "python",
   "pygments_lexer": "ipython3",
   "version": "3.6.8"
  }
 },
 "nbformat": 4,
 "nbformat_minor": 2
}
